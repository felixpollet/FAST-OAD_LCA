{
 "cells": [
  {
   "cell_type": "markdown",
   "metadata": {},
   "source": [
    "# Life Cycle Assessment of the CeRAS aircraft"
   ]
  },
  {
   "cell_type": "markdown",
   "metadata": {},
   "source": [
    "The aim of this tutorial is to evaluate the environmental impacts of the CeRAS aircraft using the LCA module of FAST-OAD. It is assumed that the data related to the CeRAS aircraft have already been retrieved with the CS-25 version of FAST-OAD. Therefore, the LCA module is applied here as a post-processing step.\n",
    "\n",
    "More information on the CeRAS case study can be found [here](https://github.com/fast-aircraft-design/FAST-OAD_CS25/blob/main/src/fastoad_cs25/notebooks/02_CeRAS_case_study/CeRAS_case_study.ipynb)."
   ]
  },
  {
   "cell_type": "markdown",
   "metadata": {},
   "source": [
    "## Imports"
   ]
  },
  {
   "cell_type": "code",
   "execution_count": 1,
   "metadata": {
    "tags": []
   },
   "outputs": [],
   "source": [
    "import os.path as pth\n",
    "import sys\n",
    "import logging\n",
    "import fastoad.api as oad\n",
    "\n",
    "sys.path.append(pth.abspath(\".\"))"
   ]
  },
  {
   "cell_type": "markdown",
   "metadata": {},
   "source": [
    "## Working directories and reference files"
   ]
  },
  {
   "cell_type": "code",
   "execution_count": 2,
   "metadata": {},
   "outputs": [],
   "source": [
    "#logging.basicConfig(level=logging.INFO, format=\"%(levelname)-8s: %(message)s\")\n",
    "\n",
    "DATA_FOLDER_PATH = \"data\"\n",
    "WORK_FOLDER_PATH = \"workdir\"\n",
    "#SOURCE_FILE = pth.join(DATA_FOLDER_PATH, \"CeRAS_reference_data.xml\")\n",
    "SOURCE_FILE = pth.join(DATA_FOLDER_PATH, \"operational_missions_out.xml\")"
   ]
  },
  {
   "cell_type": "markdown",
   "metadata": {},
   "source": [
    "## 1. FAST-OAD configuration file"
   ]
  },
  {
   "cell_type": "code",
   "execution_count": 3,
   "metadata": {},
   "outputs": [],
   "source": [
    "CONFIGURATION_FILE = pth.join(DATA_FOLDER_PATH, \"oad_configuration.yml\")"
   ]
  },
  {
   "cell_type": "markdown",
   "metadata": {},
   "source": [
    "## 2. LCA file"
   ]
  },
  {
   "cell_type": "code",
   "execution_count": 4,
   "metadata": {},
   "outputs": [],
   "source": [
    "LCA_FILE = pth.join(DATA_FOLDER_PATH, \"lca_model.yml\")"
   ]
  },
  {
   "cell_type": "markdown",
   "metadata": {},
   "source": [
    "## 3. Inputs file"
   ]
  },
  {
   "cell_type": "code",
   "execution_count": 5,
   "metadata": {},
   "outputs": [
    {
     "name": "stdout",
     "output_type": "stream",
     "text": [
      "Initial setup of EcoInvent already done, skipping. To reset the project use option `reset_project=True`.\n",
      "Creating custom LCIA method  ('Custom methods', 'climate change (with non-CO2)', 'global warming potential (GWP100)')\n"
     ]
    },
    {
     "name": "stderr",
     "output_type": "stream",
     "text": [
      "Writing activities to SQLite3 database:\n",
      "0% [#] 100% | ETA: 00:00:00\n",
      "Total time elapsed: 00:00:00\n"
     ]
    },
    {
     "name": "stdout",
     "output_type": "stream",
     "text": [
      "Title: Writing activities to SQLite3 database:\n",
      "  Started: 01/30/2025 19:04:17\n",
      "  Finished: 01/30/2025 19:04:17\n",
      "  Total time elapsed: 00:00:00\n",
      "  CPU %: 2.60\n",
      "  Memory %: 1.83\n",
      "Added 1 new biosphere flows\n",
      "1 methods\n",
      "130 cfs\n",
      "0 unlinked cfs\n",
      "Wrote 1 LCIA methods with 130 characterization factors\n",
      "Wrote matching file to:\n",
      "/Users/f.pollet/POSTDOC/5 - Tools/FAST-OAD_LCA/src/fastoad_lca/notebooks/01_CeRAS/data/lcia_nonCO2_global_warming_updated.xlsx\n",
      "Creating custom LCIA method  ('Custom methods', 'total: ecosystem quality (with non-CO2)', 'ecosystem quality')\n",
      "1 methods\n",
      "1990 cfs\n",
      "0 unlinked cfs\n",
      "Wrote 1 LCIA methods with 1990 characterization factors\n",
      "Wrote matching file to:\n",
      "/Users/f.pollet/POSTDOC/5 - Tools/FAST-OAD_LCA/src/fastoad_lca/notebooks/01_CeRAS/data/lcia_nonCO2_ecosystem_quality_updated.xlsx\n",
      "Creating custom LCIA method  ('Custom methods', 'total: human health (with non-CO2)', 'human health')\n",
      "1 methods\n",
      "1618 cfs\n",
      "0 unlinked cfs\n",
      "Wrote 1 LCIA methods with 1618 characterization factors\n",
      "Wrote matching file to:\n",
      "/Users/f.pollet/POSTDOC/5 - Tools/FAST-OAD_LCA/src/fastoad_lca/notebooks/01_CeRAS/data/lcia_nonCO2_human_health_updated.xlsx\n",
      "Creating custom LCIA method  ('Custom methods', 'ecosystem quality (with non-CO2)', 'climate change: freshwater ecosystems')\n",
      "1 methods\n",
      "130 cfs\n",
      "0 unlinked cfs\n",
      "Wrote 1 LCIA methods with 130 characterization factors\n",
      "Wrote matching file to:\n",
      "/Users/f.pollet/POSTDOC/5 - Tools/FAST-OAD_LCA/src/fastoad_lca/notebooks/01_CeRAS/data/lcia_nonCO2_freshwater_ecosystem_quality_climate_change_updated.xlsx\n",
      "Creating custom LCIA method  ('Custom methods', 'ecosystem quality (with non-CO2)', 'climate change: terrestrial ecosystems')\n",
      "1 methods\n",
      "130 cfs\n",
      "0 unlinked cfs\n",
      "Wrote 1 LCIA methods with 130 characterization factors\n",
      "Wrote matching file to:\n",
      "/Users/f.pollet/POSTDOC/5 - Tools/FAST-OAD_LCA/src/fastoad_lca/notebooks/01_CeRAS/data/lcia_nonCO2_terrestrial_ecosystem_quality_climate_change_updated.xlsx\n",
      "Creating custom LCIA method  ('Custom methods', 'human health (with non-CO2)', 'climate change: human health')\n",
      "1 methods\n",
      "130 cfs\n",
      "0 unlinked cfs\n",
      "Wrote 1 LCIA methods with 130 characterization factors\n",
      "Wrote matching file to:\n",
      "/Users/f.pollet/POSTDOC/5 - Tools/FAST-OAD_LCA/src/fastoad_lca/notebooks/01_CeRAS/data/lcia_nonCO2_human_health_climate_change_updated.xlsx\n",
      "Done.ing LCA model from configuration file... \n",
      "Compiling LCIA functions...\n",
      "Done.\n"
     ]
    }
   ],
   "source": [
    "input_file = oad.generate_inputs(CONFIGURATION_FILE, SOURCE_FILE, overwrite=True)"
   ]
  },
  {
   "cell_type": "code",
   "execution_count": 6,
   "metadata": {},
   "outputs": [
    {
     "name": "stderr",
     "output_type": "stream",
     "text": [
      "/opt/miniconda3/envs/fastoad-lca/lib/python3.10/site-packages/jupyter_client/session.py:721: UserWarning: Message serialization failed with:\n",
      "Out of range float values are not JSON compliant\n",
      "Supporting this message is deprecated in jupyter-client 7, please make sure your message is JSON-compliant\n",
      "  content = self.pack(content)\n"
     ]
    },
    {
     "data": {
      "application/vnd.jupyter.widget-view+json": {
       "model_id": "1fd9b834af3a4d3f942de4ffde26a383",
       "version_major": 2,
       "version_minor": 0
      },
      "text/plain": [
       "VBox(children=(HBox(children=(Button(description='Load', icon='upload', style=ButtonStyle(), tooltip='Load the…"
      ]
     },
     "metadata": {},
     "output_type": "display_data"
    }
   ],
   "source": [
    "oad.variable_viewer(input_file)"
   ]
  },
  {
   "cell_type": "markdown",
   "metadata": {},
   "source": [
    "## 4. Run the LCA"
   ]
  },
  {
   "cell_type": "code",
   "execution_count": 7,
   "metadata": {},
   "outputs": [],
   "source": [
    "LCA_problem = oad.evaluate_problem(CONFIGURATION_FILE, overwrite=True)"
   ]
  },
  {
   "cell_type": "markdown",
   "metadata": {},
   "source": [
    "## 5. Results Analysis"
   ]
  },
  {
   "cell_type": "code",
   "execution_count": 8,
   "metadata": {},
   "outputs": [
    {
     "data": {
      "application/vnd.jupyter.widget-view+json": {
       "model_id": "5afe7c6629094564b80a4214666c8aab",
       "version_major": 2,
       "version_minor": 0
      },
      "text/plain": [
       "VBox(children=(HBox(children=(Button(description='Load', icon='upload', style=ButtonStyle(), tooltip='Load the…"
      ]
     },
     "metadata": {},
     "output_type": "display_data"
    }
   ],
   "source": [
    "oad.variable_viewer(LCA_problem.output_file_path)"
   ]
  }
 ],
 "metadata": {
  "kernelspec": {
   "display_name": "Python 3 (ipykernel)",
   "language": "python",
   "name": "python3"
  },
  "language_info": {
   "codemirror_mode": {
    "name": "ipython",
    "version": 3
   },
   "file_extension": ".py",
   "mimetype": "text/x-python",
   "name": "python",
   "nbconvert_exporter": "python",
   "pygments_lexer": "ipython3",
   "version": "3.10.16"
  }
 },
 "nbformat": 4,
 "nbformat_minor": 4
}
