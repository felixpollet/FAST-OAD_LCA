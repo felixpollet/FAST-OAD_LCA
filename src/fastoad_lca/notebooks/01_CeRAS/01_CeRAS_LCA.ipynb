{
 "cells": [
  {
   "cell_type": "markdown",
   "metadata": {},
   "source": [
    "# Life Cycle Assessment of the CeRAS aircraft"
   ]
  },
  {
   "cell_type": "markdown",
   "metadata": {},
   "source": [
    "The aim of this tutorial is to evaluate the environmental impacts of the CeRAS aircraft using the LCA module of FAST-OAD. The LCA module is applied here as a post-processing step only, after sizing the CeRAS aircraft. However, this module can be used like any other FAST-OAD's plugin to run any MDAO problem you want, for example to optimise the design with environmental criteria.\n",
    "\n",
    "More information on the CeRAS case study can be found [here](https://github.com/fast-aircraft-design/FAST-OAD_CS25/blob/main/src/fastoad_cs25/notebooks/02_CeRAS_case_study/CeRAS_case_study.ipynb).\n",
    "\n",
    "This notebook requires the [CS-25 package of FAST-OAD](https://github.com/fast-aircraft-design/FAST-OAD_CS25), which can be installed using `pip install --upgrade fast-oad-cs25`, as well as a valid license from ecoinvent (refer to installation procedure in the README of this plugin)."
   ]
  },
  {
   "cell_type": "markdown",
   "metadata": {},
   "source": [
    "## Imports"
   ]
  },
  {
   "cell_type": "code",
   "execution_count": null,
   "metadata": {
    "tags": []
   },
   "source": [
    "import os.path as pth\n",
    "import sys\n",
    "import logging\n",
    "import fastoad.api as oad\n",
    "sys.path.append(pth.abspath(\".\"))"
   ],
   "outputs": []
  },
  {
   "cell_type": "markdown",
   "metadata": {},
   "source": [
    "## Working directories and reference files"
   ]
  },
  {
   "cell_type": "code",
   "execution_count": null,
   "metadata": {},
   "source": [
    "DATA_FOLDER_PATH = \"data\"\n",
    "WORK_FOLDER_PATH = \"workdir\"\n",
    "OAD_CONFIGURATION_FILE = pth.join(DATA_FOLDER_PATH, \"oad_sizing.yml\")\n",
    "OAD_SOURCE_FILE = pth.join(DATA_FOLDER_PATH, \"CeRAS_reference_data.xml\")\n",
    "LCA_CONFIGURATION_FILE = pth.join(DATA_FOLDER_PATH, \"operational_missions_lca.yml\")"
   ],
   "outputs": []
  },
  {
   "cell_type": "markdown",
   "metadata": {},
   "source": [
    "## OAD Process\n",
    "\n",
    "In a first step, the CeRAS aircraft is sized using FAST-OAD, following the approach provided in the [CeRAS case study notebook](https://github.com/fast-aircraft-design/FAST-OAD_CS25/blob/main/src/fastoad_cs25/notebooks/02_CeRAS_case_study/CeRAS_case_study.ipynb)."
   ]
  },
  {
   "cell_type": "code",
   "execution_count": null,
   "metadata": {},
   "source": [
    "# Generate input file for OAD problem\n",
    "oad_input_file = oad.generate_inputs(OAD_CONFIGURATION_FILE, OAD_SOURCE_FILE, overwrite=True)"
   ],
   "outputs": []
  },
  {
   "cell_type": "code",
   "execution_count": null,
   "metadata": {},
   "source": [
    "# Display input file\n",
    "oad.variable_viewer(oad_input_file)"
   ],
   "outputs": []
  },
  {
   "cell_type": "code",
   "execution_count": null,
   "metadata": {},
   "source": [
    "# Run problem\n",
    "MTOW_problem = oad.evaluate_problem(OAD_CONFIGURATION_FILE, overwrite=True)"
   ],
   "outputs": []
  },
  {
   "cell_type": "code",
   "execution_count": null,
   "metadata": {},
   "source": [
    "# Display outputs\n",
    "OAD_OUTPUT_FILE = MTOW_problem.output_file_path\n",
    "oad.variable_viewer(OAD_OUTPUT_FILE)"
   ],
   "outputs": []
  },
  {
   "cell_type": "markdown",
   "metadata": {},
   "source": [
    "## FAST-OAD configuration file and LCA setup\n",
    "\n",
    "The LCA module can be used like any other FAST-OAD plugin using the id `fastoad.plugin.lca` in the [configuration file](./data/operational_missions_lca.yml):\n",
    "\n",
    "```yaml\n",
    "environmental_impacts:\n",
    "        id: fastoad.plugin.lca\n",
    "        configuration_file: './CeRAS_LCA.yml'  # path to the LCA configuration file\n",
    "        axis: 'phase'  # return impacts per contributor (e.g. \"phase\"), according to tags in the LCA model\n",
    "        normalization: False  # normalize results\n",
    "        weighting: False  # weight and aggregate results into a single score\n",
    "        nonfloat_params:  # provide values for non-float LCA parameters\n",
    "            model: 'remind'\n",
    "            pathway: 'SSP2-PkBudg1150'\n",
    "```\n",
    "\n",
    "The module comes with a number of options, of which the path to the [LCA definition file](./data/CeRAS_LCA.yml) (`configuration_file`) is mandatory.\n",
    "This file enables to define the LCA problem, including:\n",
    "1. The version & system model of [ecoinvent](https://support.ecoinvent.org/releases-overview) to install and use in the LCA\n",
    "2. [Optional] For future-oriented studies, the prospective scenarios following the [premise](https://premise.readthedocs.io/en/latest/extract.html) nomenclature (IAM model, pathway, and year).\n",
    "3. The LCA model itself, using a tree-like structure.\n",
    "4. [Optional] Parameters metadata, e.g. to set units for LCA parameters to ensure consistency with FAST-OAD's variables\n",
    "5. The LCIA methods\n",
    "\n",
    "More information and tutorials on how to set up an LCA problem are available in the dedicated Python package [LCA-Modeller](https://github.com/AeroMAPS/lca-modeller) developed in support of this project."
   ]
  },
  {
   "cell_type": "markdown",
   "metadata": {},
   "source": [
    "## Generate input files and set values\n",
    "\n",
    "Once the configuration file and the LCA file are ready, you can generate the input file as with any FAST-OAD problem. **The first call will take some time, depending on the size of your LCA model**. This is because the LCA model and the parametric LCIA functions are being generated. However, this is only done once and, unless you change the LCA configuration file, subsequent runs will be much faster. For more information on parametric LCA in Python, see [lca-algebraic](https://lca-algebraic.readthedocs.io/)."
   ]
  },
  {
   "cell_type": "code",
   "execution_count": null,
   "metadata": {},
   "source": [
    "# Generate input file for LCA\n",
    "\n",
    "# From OAD process run in this notebook...\n",
    "#lca_input_file = oad.generate_inputs(LCA_CONFIGURATION_FILE, OAD_OUTPUT_FILE, overwrite=True)\n",
    "\n",
    "# ..Or from existing file from previous OAD run\n",
    "OAD_OUTPUT_FILE = pth.join(DATA_FOLDER_PATH, 'operational_missions_lca_in.xml')\n",
    "\n",
    "lca_input_file = oad.generate_inputs(LCA_CONFIGURATION_FILE, OAD_OUTPUT_FILE, overwrite=True)"
   ],
   "outputs": []
  },
  {
   "cell_type": "markdown",
   "metadata": {},
   "source": [
    "You can now visualise the input file and fill in the missing values needed to evaluate the problem. Don't forget to save the file before going any further."
   ]
  },
  {
   "cell_type": "code",
   "execution_count": null,
   "metadata": {},
   "source": [
    "oad.variable_viewer(lca_input_file)"
   ],
   "outputs": []
  },
  {
   "cell_type": "markdown",
   "metadata": {},
   "source": [
    "## Running the LCA\n",
    "\n",
    "Let's run the LCA!"
   ]
  },
  {
   "cell_type": "code",
   "execution_count": null,
   "metadata": {},
   "source": [
    "LCA_problem = oad.evaluate_problem(LCA_CONFIGURATION_FILE, overwrite=True)"
   ],
   "outputs": []
  },
  {
   "cell_type": "markdown",
   "metadata": {},
   "source": [
    "## Results Analysis\n",
    "\n",
    "You can now visualise the results and plot any nice LCA figure you want. Some examples are provided in notebook [02_Plots_For_Transportation_Part_D.ipynb](02_Plots_For_Transportation_Part_D.ipynb)"
   ]
  },
  {
   "cell_type": "code",
   "execution_count": null,
   "metadata": {},
   "source": [
    "LCA_OUTPUT_FILE = LCA_problem.output_file_path\n",
    "oad.variable_viewer(LCA_OUTPUT_FILE)"
   ],
   "outputs": []
  },
  {
   "cell_type": "markdown",
   "metadata": {},
   "source": [
    "## Bonus: visualisation of the LCA model\n",
    "\n",
    "FAST-OAD-LCA stores the parametric LCA model under the name `model` in the database `Foreground DB`. Once retrieved, it is possible to visualise the processes and exchanges involved in your model in the form of a process tree."
   ]
  },
  {
   "cell_type": "code",
   "execution_count": null,
   "metadata": {},
   "source": [
    "import lca_algebraic as agb\n",
    "from lca_modeller.gui.plots import process_tree\n",
    "\n",
    "my_lca_model = agb.findActivity('model', db_name='Foreground DB')\n",
    "process_tree(my_lca_model, foreground_only=True)"
   ],
   "outputs": []
  },
  {
   "cell_type": "markdown",
   "metadata": {},
   "source": [
    "Alternatively, you can visualise it in the form of a table:"
   ]
  },
  {
   "cell_type": "code",
   "execution_count": null,
   "metadata": {},
   "source": [
    "from lca_modeller.helpers import list_processes\n",
    "list_processes(my_lca_model)"
   ],
   "outputs": []
  },
  {
   "cell_type": "markdown",
   "metadata": {},
   "source": [
    "Finally, you can display all the parameters involved in your LCA model. Three of these parameters are specific to prospective scenarios and generated automatically: `model`, `pathway`, and `year`. The first two must be set as options in the FAST-OAD configuration file, while the year can be entered directly in the input files."
   ]
  },
  {
   "cell_type": "code",
   "execution_count": null,
   "metadata": {},
   "source": [
    "agb.list_parameters()"
   ],
   "outputs": []
  }
 ],
 "metadata": {
  "kernelspec": {
   "display_name": "Python 3 (ipykernel)",
   "language": "python",
   "name": "python3"
  },
  "language_info": {
   "codemirror_mode": {
    "name": "ipython",
    "version": 3
   },
   "file_extension": ".py",
   "mimetype": "text/x-python",
   "name": "python",
   "nbconvert_exporter": "python",
   "pygments_lexer": "ipython3",
   "version": "3.10.16"
  }
 },
 "nbformat": 4,
 "nbformat_minor": 4
}
